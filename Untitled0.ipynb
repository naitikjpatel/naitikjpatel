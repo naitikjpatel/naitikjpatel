{
  "nbformat": 4,
  "nbformat_minor": 0,
  "metadata": {
    "colab": {
      "provenance": [],
      "authorship_tag": "ABX9TyOPWI+gLjREPdg6ADEbridn",
      "include_colab_link": true
    },
    "kernelspec": {
      "name": "python3",
      "display_name": "Python 3"
    },
    "language_info": {
      "name": "python"
    }
  },
  "cells": [
    {
      "cell_type": "markdown",
      "metadata": {
        "id": "view-in-github",
        "colab_type": "text"
      },
      "source": [
        "<a href=\"https://colab.research.google.com/github/naitikjpatel/naitikjpatel/blob/main/Untitled0.ipynb\" target=\"_parent\"><img src=\"https://colab.research.google.com/assets/colab-badge.svg\" alt=\"Open In Colab\"/></a>"
      ]
    },
    {
      "cell_type": "code",
      "execution_count": 3,
      "metadata": {
        "id": "LheoMHAREB_D"
      },
      "outputs": [],
      "source": [
        "import numpy as np"
      ]
    },
    {
      "cell_type": "markdown",
      "source": [
        "#Creatig array"
      ],
      "metadata": {
        "id": "3Ollhm9xEjX_"
      }
    },
    {
      "cell_type": "code",
      "source": [
        "a=np.array([12,33,15,0,-4])\n",
        "print(a)\n",
        "\n",
        "l1=[3,5,6,9,10]\n",
        "\n",
        "b=np.array(l1)\n",
        "print(b)\n",
        "\n",
        "\n",
        "c=np.array([\n",
        "    [1,2],\n",
        "    [3,4]\n",
        "])\n",
        "\n",
        "print(c)\n",
        "print(c.ndim)\n",
        "\n",
        "d=np.array([\n",
        "    [\n",
        "        [1,2],\n",
        "        [3,4]\n",
        "    ]\n",
        "])\n",
        "print(d)\n",
        "print(d.ndim)\n",
        "\n",
        "# here we can made array from the list and tuples also\n",
        "\n",
        "e=np.array((1,2,3,4,5))\n",
        "e\n",
        "e.ndim\n",
        "type(e)\n",
        "#default type is int64 we can change the dtype using the method we see leter on\n",
        "e.dtype\n",
        "\n",
        "f=np.array((1,2,'r',34.5))\n",
        "f.dtype\n"
      ],
      "metadata": {
        "colab": {
          "base_uri": "https://localhost:8080/"
        },
        "id": "sjYT3tLsEiTQ",
        "outputId": "7d7f98ea-8dc4-4831-8772-11168ea6e587"
      },
      "execution_count": 14,
      "outputs": [
        {
          "output_type": "stream",
          "name": "stdout",
          "text": [
            "[12 33 15  0 -4]\n",
            "[ 3  5  6  9 10]\n",
            "[[1 2]\n",
            " [3 4]]\n",
            "2\n",
            "[[[1 2]\n",
            "  [3 4]]]\n",
            "3\n"
          ]
        },
        {
          "output_type": "execute_result",
          "data": {
            "text/plain": [
              "dtype('<U32')"
            ]
          },
          "metadata": {},
          "execution_count": 14
        }
      ]
    },
    {
      "cell_type": "markdown",
      "source": [
        "### checking the speed of calculations with numpy arrays"
      ],
      "metadata": {
        "id": "QdZrowldFyX5"
      }
    },
    {
      "cell_type": "code",
      "source": [
        "from sys import getsizeof"
      ],
      "metadata": {
        "id": "iez60wOaF766"
      },
      "execution_count": 15,
      "outputs": []
    },
    {
      "cell_type": "code",
      "source": [
        "r=range(1000000)\n",
        "\n",
        "%timeit [x*x for x in r]\n",
        "print('size of list :',getsizeof(l1))\n",
        "\n",
        "a1=np.array(r)\n",
        "%timeit a1*a1\n",
        "print('size of numpy array :',getsizeof(a1))"
      ],
      "metadata": {
        "colab": {
          "base_uri": "https://localhost:8080/"
        },
        "id": "h36r4-_7GQiP",
        "outputId": "284adb84-6933-44d5-b76d-71395f32efb0"
      },
      "execution_count": 17,
      "outputs": [
        {
          "output_type": "stream",
          "name": "stdout",
          "text": [
            "81.5 ms ± 1.51 ms per loop (mean ± std. dev. of 7 runs, 10 loops each)\n",
            "size of list : 104\n",
            "1.04 ms ± 139 µs per loop (mean ± std. dev. of 7 runs, 1000 loops each)\n",
            "size of numpy array : 8000112\n"
          ]
        }
      ]
    },
    {
      "cell_type": "code",
      "source": [
        "#Assigning datatype while creating an array\n",
        "a=np.array([1,23,44,56,76,89,12], dtype=\"int16\")\n",
        "a\n",
        "\n",
        "a=np.array([1,23,44,56,76,89,12], dtype=\"float\")\n",
        "a\n"
      ],
      "metadata": {
        "colab": {
          "base_uri": "https://localhost:8080/"
        },
        "id": "HWez_d9oG0pc",
        "outputId": "76d61d2d-17c7-434e-c32d-4412282dee89"
      },
      "execution_count": 19,
      "outputs": [
        {
          "output_type": "execute_result",
          "data": {
            "text/plain": [
              "array([ 1., 23., 44., 56., 76., 89., 12.])"
            ]
          },
          "metadata": {},
          "execution_count": 19
        }
      ]
    },
    {
      "cell_type": "markdown",
      "source": [
        "### we should avoid doing this"
      ],
      "metadata": {
        "id": "_THVbNWaHFWv"
      }
    },
    {
      "cell_type": "code",
      "source": [
        "a=np.array([\n",
        "    [12,13,14],\n",
        "    [21,22]\n",
        "])\n",
        "\n",
        "a\n",
        "\n",
        "#ahi apre array banava magta hata but tene apnne list banavi ne apyu.\n",
        "#because of the in every row we have different number of element\n"
      ],
      "metadata": {
        "colab": {
          "base_uri": "https://localhost:8080/"
        },
        "id": "sd_8W3ttHJ7O",
        "outputId": "6aaead0d-b8b4-469a-d519-a251a5eaec1b"
      },
      "execution_count": 20,
      "outputs": [
        {
          "output_type": "stream",
          "name": "stderr",
          "text": [
            "<ipython-input-20-dbd1ead040c1>:1: VisibleDeprecationWarning: Creating an ndarray from ragged nested sequences (which is a list-or-tuple of lists-or-tuples-or ndarrays with different lengths or shapes) is deprecated. If you meant to do this, you must specify 'dtype=object' when creating the ndarray.\n",
            "  a=np.array([\n"
          ]
        },
        {
          "output_type": "execute_result",
          "data": {
            "text/plain": [
              "array([list([12, 13, 14]), list([21, 22])], dtype=object)"
            ]
          },
          "metadata": {},
          "execution_count": 20
        }
      ]
    },
    {
      "cell_type": "markdown",
      "source": [
        "#here we discuss about the Array slicing"
      ],
      "metadata": {
        "id": "1YP4f3-8HqUu"
      }
    },
    {
      "cell_type": "code",
      "source": [
        "x=np.array([12,13,14,21,22,1,23,44,56,76,89,12])\n",
        "\n",
        "x[3]\n",
        "x[3:]\n",
        "x[3:7]\n",
        "\n",
        "\n",
        "a = np.array([\n",
        "    [1,2,3,4,5,6,7],\n",
        "    [8,9,10,11,12,13,14],\n",
        "    [21, 22, 1,23,44,56,76],\n",
        "    [12, 13, 14, 21, 22, 1,23]\n",
        "])\n",
        "\n",
        "\n",
        "a[0,4]\n",
        "a[0][4]\n",
        "#above both syntax is correct for the fetching the single element in the array\n",
        "\n",
        "a[1,2:6]\n",
        "a[2, :]\n",
        "a[2, : :2]\n",
        "a[0, : : -1]\n",
        "a[1:3,2:6]\n",
        "\n",
        "\n",
        "print(x, \"\\n\")\n",
        "print(a)\n",
        "\n"
      ],
      "metadata": {
        "colab": {
          "base_uri": "https://localhost:8080/"
        },
        "id": "qu3y9aOLHjLm",
        "outputId": "20280b1f-fad1-48ec-c4e8-757b05fc8288"
      },
      "execution_count": 32,
      "outputs": [
        {
          "output_type": "stream",
          "name": "stdout",
          "text": [
            "[12 13 14 21 22  1 23 44 56 76 89 12] \n",
            "\n",
            "[[ 1  2  3  4  5  6  7]\n",
            " [ 8  9 10 11 12 13 14]\n",
            " [21 22  1 23 44 56 76]\n",
            " [12 13 14 21 22  1 23]]\n"
          ]
        }
      ]
    },
    {
      "cell_type": "markdown",
      "source": [
        "#Manipulating Array using Index"
      ],
      "metadata": {
        "id": "twLJmU6DJupi"
      }
    },
    {
      "cell_type": "code",
      "source": [
        "print(x,\"\\n\")\n",
        "print(a)"
      ],
      "metadata": {
        "colab": {
          "base_uri": "https://localhost:8080/"
        },
        "id": "ndzlXC1-Jys2",
        "outputId": "b15db306-086c-4d0a-e5e4-4abaef58df92"
      },
      "execution_count": 34,
      "outputs": [
        {
          "output_type": "stream",
          "name": "stdout",
          "text": [
            "[12 13 14 21 22  1 23 44 56 76 89 12] \n",
            "\n",
            "[[ 1  2  3  4  5  6  7]\n",
            " [ 8  9 10 11 12 13 14]\n",
            " [21 22  1 23 44 56 76]\n",
            " [12 13 14 21 22  1 23]]\n"
          ]
        }
      ]
    },
    {
      "cell_type": "code",
      "source": [
        "x[2:7]\n",
        "#index 2,3,4,5,6 replace value with 100\n",
        "x[2:7]=100\n",
        "x\n",
        "x[2:7]=[101,102,103,104,105]\n",
        "x\n",
        "\n",
        "\n",
        "a[0,2:7]=90\n",
        "a\n",
        "\n",
        "a[1:3,1:6]=50\n",
        "a\n",
        "\n",
        "a[1:3, 1:6] = [\n",
        "    [20, 30, 40, 50, 60],\n",
        "    [60, 70, 80, 90, 100]\n",
        "]\n",
        "a"
      ],
      "metadata": {
        "colab": {
          "base_uri": "https://localhost:8080/"
        },
        "id": "6ovKGDlZJ2oB",
        "outputId": "66067974-cb2c-4877-e834-9783a84d5ec1"
      },
      "execution_count": 43,
      "outputs": [
        {
          "output_type": "execute_result",
          "data": {
            "text/plain": [
              "array([[  1,   2,  90,  90,  90,  90,  90],\n",
              "       [  8,  20,  30,  40,  50,  60,  14],\n",
              "       [ 21,  60,  70,  80,  90, 100,  76],\n",
              "       [ 12,  13,  14,  21,  22,   1,  23]])"
            ]
          },
          "metadata": {},
          "execution_count": 43
        }
      ]
    },
    {
      "cell_type": "markdown",
      "source": [
        "#Intrinsic Methods To create Arrays in Numpy"
      ],
      "metadata": {
        "id": "IPOlcH4WLcjY"
      }
    },
    {
      "cell_type": "code",
      "source": [
        "a=np.arange(10)\n",
        "a\n",
        "\n",
        "a=np.arange(3,20)\n",
        "a\n",
        "a=np.arange(3,22,4)\n",
        "a\n",
        "\n",
        "#np.zeros((row,col))\n",
        "b=np.zeros((3,5))\n",
        "b\n",
        "b=np.zeros((3,5),dtype=\"int32\")\n",
        "b\n",
        "b=np.zeros((3,5,2),dtype=\"int16\")\n",
        "b\n",
        "\n",
        "c=np.ones((4,6),dtype=\"int\")\n",
        "c\n",
        "\n",
        "#using full method we can create the array with our own value\n",
        "#in zeros,ones and full method we pass the shape of the array means rows and cols\n",
        "d=np.full((5,7),77)\n",
        "d\n",
        "\n",
        "\n",
        "e = np.array([\n",
        "    [1,2,3,4,5,6,7],\n",
        "    [8,9,10,11,12,13,14],\n",
        "    [21, 22, 1,23,44,56,76],\n",
        "    [12, 13, 14, 21, 22, 1,23]\n",
        "])\n",
        "\n",
        "d=np.full(e.shape,13)\n",
        "d\n",
        "\n",
        "\n",
        "f=np.full_like(e,100)\n",
        "f\n",
        "\n",
        "\n",
        "#when we use the reshape then cheking the element if element count is n then reshpe into the n fractions like (1,n)\n",
        "f=f.reshape(2,14)\n",
        "f\n",
        "\n",
        "g=np.arange(1,29)\n",
        "g\n",
        "#here g have 28 element then we divide into the fractions ->(7,4) ,(14,2)\n",
        "g.reshape(4,7)\n",
        "\n",
        "\n",
        "\n",
        "\n",
        "#now here we use random method\n",
        "h=np.random.random(12)\n",
        "h\n",
        "\n",
        "h=np.random.random(12).reshape(2,6)\n",
        "h\n",
        "\n",
        "i=np.random.randint(low=10,high=50,size=6)\n",
        "i\n",
        "\n",
        "i=np.random.randint(low=10,high=50,size=9).reshape(3,3)\n",
        "i\n",
        "\n",
        "#5X5 no random matrix mali jashe 0 thi 1 ni value no\n",
        "j=np.random.random_sample((5,5))\n",
        "j\n",
        "\n",
        "\n",
        "k=np.arange(0,10,0.5)\n",
        "k\n",
        "m=np.arange(0,10,2)\n",
        "m\n",
        "\n",
        "\n",
        "#doubt\n",
        "l=np.linspace(0,9.5,20)\n",
        "l\n",
        "\n",
        "\n"
      ],
      "metadata": {
        "colab": {
          "base_uri": "https://localhost:8080/"
        },
        "id": "NB_RnwkfLiK3",
        "outputId": "2c10fc43-394f-489f-de1a-a5a90fab4d44"
      },
      "execution_count": 76,
      "outputs": [
        {
          "output_type": "execute_result",
          "data": {
            "text/plain": [
              "array([0. , 0.5, 1. , 1.5, 2. , 2.5, 3. , 3.5, 4. , 4.5, 5. , 5.5, 6. ,\n",
              "       6.5, 7. , 7.5, 8. , 8.5, 9. , 9.5])"
            ]
          },
          "metadata": {},
          "execution_count": 76
        }
      ]
    },
    {
      "cell_type": "markdown",
      "source": [
        "#Quiz:1\n",
        "![image.png](data:image/png;base64,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)"
      ],
      "metadata": {
        "id": "RgDCuREUPrgq"
      }
    },
    {
      "cell_type": "code",
      "source": [
        "x=np.ones((5,5),dtype=\"int\")\n",
        "x\n",
        "x[1:4,1:4]=np.zeros((3,3))\n",
        "x\n",
        "\n",
        "x[2,2]=9\n",
        "x"
      ],
      "metadata": {
        "colab": {
          "base_uri": "https://localhost:8080/"
        },
        "id": "AzvyL5LuPuXr",
        "outputId": "7054cb7a-35af-48a3-8fce-f10787de496c"
      },
      "execution_count": 81,
      "outputs": [
        {
          "output_type": "execute_result",
          "data": {
            "text/plain": [
              "array([[1, 1, 1, 1, 1],\n",
              "       [1, 0, 0, 0, 1],\n",
              "       [1, 0, 9, 0, 1],\n",
              "       [1, 0, 0, 0, 1],\n",
              "       [1, 1, 1, 1, 1]])"
            ]
          },
          "metadata": {},
          "execution_count": 81
        }
      ]
    },
    {
      "cell_type": "markdown",
      "source": [
        "#Array Attributes"
      ],
      "metadata": {
        "id": "_-5SFnUGQMuO"
      }
    },
    {
      "cell_type": "code",
      "source": [
        "x=np.random.randint(low=30,high=50,size=12).reshape(4,3)\n",
        "x\n",
        "\n",
        "x.shape\n",
        "x.ndim\n",
        "x.size\n",
        "x.itemsize  #size of one element in the byte\n",
        "\n",
        "x.nbytes #nbytes=no. of elements (size) *size of each element (itemsize)\n",
        "\n",
        "print(x)\n",
        "#array_name.T use for the transpose the array or matrix\n",
        "x.T"
      ],
      "metadata": {
        "colab": {
          "base_uri": "https://localhost:8080/"
        },
        "id": "t73GlveuQPRv",
        "outputId": "2c2dd8aa-fa87-4a28-d30c-cde73de403d8"
      },
      "execution_count": 90,
      "outputs": [
        {
          "output_type": "stream",
          "name": "stdout",
          "text": [
            "[[35 35 44]\n",
            " [38 38 40]\n",
            " [40 39 39]\n",
            " [44 46 44]]\n"
          ]
        },
        {
          "output_type": "execute_result",
          "data": {
            "text/plain": [
              "array([[35, 38, 40, 44],\n",
              "       [35, 38, 39, 46],\n",
              "       [44, 40, 39, 44]])"
            ]
          },
          "metadata": {},
          "execution_count": 90
        }
      ]
    },
    {
      "cell_type": "markdown",
      "source": [
        "#Mathematical Methods\n",
        "\n",
        "**Axis in Numpy**\n",
        "\n",
        "*axis-0:\"Do the Computation Column-wise\"\n",
        "\n",
        "*axis-1:\"Do the Computation Row-wise\""
      ],
      "metadata": {
        "id": "yW1dDAxqRYq0"
      }
    },
    {
      "cell_type": "code",
      "source": [
        "x.sum()\n",
        "x.sum(axis=None)  #default\n",
        "\n",
        "x.sum(axis=1)\n",
        "x.sum(axis=0)\n",
        "print(x)\n",
        "\n",
        "x+10\n",
        "x*2\n",
        "x/3\n",
        "x%5\n",
        "\n",
        "a=np.random.randint(low=0,high=10,size=9).reshape(3,3)\n",
        "print(a)\n",
        "b = np.random.randint(low=-5, high=10, size=9).reshape(3,3)\n",
        "print(b)\n",
        "\n",
        "print(f\"a=\\n{a}\\n\")\n",
        "print(f\"b=\\n{b}\\n\")\n"
      ],
      "metadata": {
        "colab": {
          "base_uri": "https://localhost:8080/"
        },
        "id": "fCM3hCw7RrSX",
        "outputId": "c20006c4-7133-4f85-a6af-e22c5b10fe70"
      },
      "execution_count": 105,
      "outputs": [
        {
          "output_type": "stream",
          "name": "stdout",
          "text": [
            "[[35 35 44]\n",
            " [38 38 40]\n",
            " [40 39 39]\n",
            " [44 46 44]]\n",
            "[[5 0 5]\n",
            " [9 6 7]\n",
            " [9 2 7]]\n",
            "[[ 2 -2  5]\n",
            " [ 6 -2  2]\n",
            " [-2  2  6]]\n",
            "a=\n",
            "[[5 0 5]\n",
            " [9 6 7]\n",
            " [9 2 7]]\n",
            "\n",
            "b=\n",
            "[[ 2 -2  5]\n",
            " [ 6 -2  2]\n",
            " [-2  2  6]]\n",
            "\n"
          ]
        }
      ]
    },
    {
      "cell_type": "code",
      "source": [
        "a+b #Element by element additin (matrix addition)\n",
        "\n",
        "a*b #Element by element multiplication (not matrix multiplication)\n",
        "\n",
        "np.sin(a)\n",
        "np.sqrt(a)"
      ],
      "metadata": {
        "colab": {
          "base_uri": "https://localhost:8080/"
        },
        "id": "WqRD-Hf0SsVR",
        "outputId": "4ab92399-eb2f-4a35-c80d-c60a09b60391"
      },
      "execution_count": 107,
      "outputs": [
        {
          "output_type": "execute_result",
          "data": {
            "text/plain": [
              "array([[2.23606798, 0.        , 2.23606798],\n",
              "       [3.        , 2.44948974, 2.64575131],\n",
              "       [3.        , 1.41421356, 2.64575131]])"
            ]
          },
          "metadata": {},
          "execution_count": 107
        }
      ]
    },
    {
      "cell_type": "markdown",
      "source": [
        "#np.where()"
      ],
      "metadata": {
        "id": "YVdVjsXSS7gz"
      }
    },
    {
      "cell_type": "code",
      "source": [
        "c=np.random.randint(low=-10,high=10,size=10)\n",
        "print(c)\n",
        "np.where(c>0)\n",
        "\n",
        "\n",
        "\n",
        "print(b)\n",
        "np.where(b > 0)"
      ],
      "metadata": {
        "colab": {
          "base_uri": "https://localhost:8080/"
        },
        "id": "dhg54yUBS9rl",
        "outputId": "a14ee73b-064b-4cf7-b859-76627d593346"
      },
      "execution_count": 111,
      "outputs": [
        {
          "output_type": "stream",
          "name": "stdout",
          "text": [
            "[ 6 -3  0 -8  4  1  8 -1 -5 -1]\n",
            "[[ 2 -2  5]\n",
            " [ 6 -2  2]\n",
            " [-2  2  6]]\n"
          ]
        },
        {
          "output_type": "execute_result",
          "data": {
            "text/plain": [
              "(array([0, 0, 1, 1, 2, 2]), array([0, 2, 0, 2, 1, 2]))"
            ]
          },
          "metadata": {},
          "execution_count": 111
        }
      ]
    }
  ]
}