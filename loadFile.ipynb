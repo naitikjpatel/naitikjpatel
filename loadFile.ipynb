{
  "nbformat": 4,
  "nbformat_minor": 0,
  "metadata": {
    "colab": {
      "provenance": [],
      "authorship_tag": "ABX9TyMeIeX+FCvAS+SdfHoadCBZ",
      "include_colab_link": true
    },
    "kernelspec": {
      "name": "python3",
      "display_name": "Python 3"
    },
    "language_info": {
      "name": "python"
    }
  },
  "cells": [
    {
      "cell_type": "markdown",
      "metadata": {
        "id": "view-in-github",
        "colab_type": "text"
      },
      "source": [
        "<a href=\"https://colab.research.google.com/github/naitikjpatel/naitikjpatel/blob/main/loadFile.ipynb\" target=\"_parent\"><img src=\"https://colab.research.google.com/assets/colab-badge.svg\" alt=\"Open In Colab\"/></a>"
      ]
    },
    {
      "cell_type": "code",
      "execution_count": 1,
      "metadata": {
        "id": "XEn9_yUuFw2g"
      },
      "outputs": [],
      "source": [
        "import numpy as np"
      ]
    },
    {
      "cell_type": "markdown",
      "source": [
        "#Getting data from a text file\n",
        "\n",
        "*Method 1:numpy.loadtxt()\n",
        "*Method 2:numpy.genfromtxt()\n",
        "\n",
        "(used when there are null value is the data and we want to handle them then use genfromtxt() method)"
      ],
      "metadata": {
        "id": "j6Q1lKiKGAsL"
      }
    },
    {
      "cell_type": "code",
      "source": [
        "e0=np.loadtxt('ex_0.txt',dtype='int32')\n",
        "e0"
      ],
      "metadata": {
        "colab": {
          "base_uri": "https://localhost:8080/"
        },
        "id": "y8Re2kqPGhTt",
        "outputId": "469d39f0-22b7-4489-bf38-a65c126d7652"
      },
      "execution_count": 3,
      "outputs": [
        {
          "output_type": "execute_result",
          "data": {
            "text/plain": [
              "array([3, 4, 8, 9], dtype=int32)"
            ]
          },
          "metadata": {},
          "execution_count": 3
        }
      ]
    },
    {
      "cell_type": "code",
      "source": [
        "e_0=np.genfromtxt('ex_0.txt',dtype=\"int\")\n",
        "e_0"
      ],
      "metadata": {
        "colab": {
          "base_uri": "https://localhost:8080/"
        },
        "id": "z8-4yVhEGxLK",
        "outputId": "59b80683-127b-45ae-8e70-471541e3b13d"
      },
      "execution_count": 5,
      "outputs": [
        {
          "output_type": "execute_result",
          "data": {
            "text/plain": [
              "array([3, 4, 8, 9])"
            ]
          },
          "metadata": {},
          "execution_count": 5
        }
      ]
    },
    {
      "cell_type": "code",
      "source": [
        "e1=np.loadtxt('ex_1.txt',dtype=\"int32\")\n",
        "e1=np.genfromtxt('ex_1.txt',dtype=\"str\")\n",
        "e1"
      ],
      "metadata": {
        "colab": {
          "base_uri": "https://localhost:8080/"
        },
        "id": "3bvms_wSG5tX",
        "outputId": "8f55b860-e1ee-4bec-c05e-08a89bd85a67"
      },
      "execution_count": 9,
      "outputs": [
        {
          "output_type": "execute_result",
          "data": {
            "text/plain": [
              "array([['1', '2'],\n",
              "       ['3', '4'],\n",
              "       ['5', '6'],\n",
              "       ['7', '8'],\n",
              "       ['9', '10']], dtype='<U2')"
            ]
          },
          "metadata": {},
          "execution_count": 9
        }
      ]
    },
    {
      "cell_type": "code",
      "source": [
        "e2=np.loadtxt('ex_2.txt',dtype='str')\n",
        "e2=np.genfromtxt('ex_2.txt',dtype='str')\n",
        "e2\n",
        "\n"
      ],
      "metadata": {
        "colab": {
          "base_uri": "https://localhost:8080/"
        },
        "id": "rzyrbAG7HVwk",
        "outputId": "ffef673b-6948-480e-c6fb-f61a9736e4cb"
      },
      "execution_count": 12,
      "outputs": [
        {
          "output_type": "execute_result",
          "data": {
            "text/plain": [
              "array([['1', 'Numpy'],\n",
              "       ['2', 'Pandas'],\n",
              "       ['3', 'matplotlib'],\n",
              "       ['4', 'seaborn']], dtype='<U10')"
            ]
          },
          "metadata": {},
          "execution_count": 12
        }
      ]
    },
    {
      "cell_type": "markdown",
      "source": [
        "*now here we see the some attribute or functionality of this two method"
      ],
      "metadata": {
        "id": "GW0TI9emHlf_"
      }
    },
    {
      "cell_type": "code",
      "source": [
        "e3=np.loadtxt('ex_3.txt',dtype=\"str\",skiprows=1)\n",
        "e3=np.loadtxt('ex_3.txt',dtype=\"str\",skiprows=2)\n",
        "# e3=np.genfromtxt('ex_3.txt',dtype=\"str\",skiprows=1) error\n",
        "\n",
        "# genfromtxt()\n",
        "e3=np.genfromtxt('ex_3.txt',dtype=\"str\",skip_header=2)\n",
        "e3=np.genfromtxt('ex_3.txt',dtype=\"str\",skip_footer=2)\n",
        "e3=np.genfromtxt('ex_3.txt',dtype=\"str\",skip_header=1,skip_footer=1)\n",
        "\n",
        "e3=np.loadtxt('ex_3.txt',usecols=2,dtype=\"str\",skiprows=2)\n",
        "e3=np.loadtxt('ex_3.txt',usecols=[1,2],dtype=\"str\",skiprows=2)\n",
        "e3"
      ],
      "metadata": {
        "colab": {
          "base_uri": "https://localhost:8080/"
        },
        "id": "XGpU4segHk3f",
        "outputId": "11382fa5-6135-48e7-f6c0-b4a64d81cd83"
      },
      "execution_count": 29,
      "outputs": [
        {
          "output_type": "execute_result",
          "data": {
            "text/plain": [
              "array([['Pandas', '28'],\n",
              "       ['matplotlib', '22'],\n",
              "       ['seaborn', '27'],\n",
              "       ['Scipy', '25']], dtype='<U10')"
            ]
          },
          "metadata": {},
          "execution_count": 29
        }
      ]
    },
    {
      "cell_type": "markdown",
      "source": [
        "*now we discuss about the delimeter"
      ],
      "metadata": {
        "id": "JETkwL1DJurh"
      }
    },
    {
      "cell_type": "code",
      "source": [
        "# e4=np.loadtxt('ex_4.txt',dtype=\"str\",delimeter=\",\")\n",
        "e4=np.genfromtxt(\"ex_4.txt\",dtype=\"str\",delimiter=\",\")\n",
        "e4"
      ],
      "metadata": {
        "colab": {
          "base_uri": "https://localhost:8080/"
        },
        "id": "__NjBuFSJx6_",
        "outputId": "4cb7d29b-f0b5-4d5c-d7c1-636ed506eae1"
      },
      "execution_count": 33,
      "outputs": [
        {
          "output_type": "execute_result",
          "data": {
            "text/plain": [
              "array([['a', 'b', 'c', 'd'],\n",
              "       ['e', 'f', 'g', 'h']], dtype='<U1')"
            ]
          },
          "metadata": {},
          "execution_count": 33
        }
      ]
    },
    {
      "cell_type": "code",
      "source": [
        "e5=np.loadtxt('ex_5.txt',dtype='str',usecols=[1,2,3])\n",
        "# e5=np.loadtxt('ex_5.txt',dtype=\"str\",delimiter=\"\\n\") Error\n",
        "\n",
        "e5=np.genfromtxt('ex_5.txt',dtype=\"str\",delimiter=\"\\n\")\n",
        "e5"
      ],
      "metadata": {
        "colab": {
          "base_uri": "https://localhost:8080/"
        },
        "id": "hF_W5m7sKb1S",
        "outputId": "7bb49d7e-c4ba-4d6d-af4a-0807c0d17396"
      },
      "execution_count": 42,
      "outputs": [
        {
          "output_type": "execute_result",
          "data": {
            "text/plain": [
              "array(['Welcome to the world of numpy!', 'It stands for Numerical Python',\n",
              "       'Its backend is written in C language.',\n",
              "       'Numpy is must for all Machine Learning aspirants.'], dtype='<U49')"
            ]
          },
          "metadata": {},
          "execution_count": 42
        }
      ]
    },
    {
      "cell_type": "code",
      "source": [
        "# e6=np.loadtxt('ex_6.txt',dtype='str',delimiter=\",\") correct\n",
        "# e6=np.loadtxt('ex_6.txt',dtype='int',delimiter=\",\")  error\n",
        "'''\n",
        "this is the exmple of the missing number/values\n",
        "1,2,3,4\n",
        "5,6,,8\n",
        "'''\n",
        "\n",
        "\n",
        "e6=np.genfromtxt('ex_6.txt',delimiter=\",\",missing_values=None,filling_values=0,dtype=\"int\")\n",
        "e6"
      ],
      "metadata": {
        "colab": {
          "base_uri": "https://localhost:8080/"
        },
        "id": "P3kXJ2pMLEhi",
        "outputId": "d2224ed4-8e27-4e1c-fb8b-d29dea9db7e3"
      },
      "execution_count": 47,
      "outputs": [
        {
          "output_type": "execute_result",
          "data": {
            "text/plain": [
              "array([[1, 2, 3, 4],\n",
              "       [5, 6, 0, 8]])"
            ]
          },
          "metadata": {},
          "execution_count": 47
        }
      ]
    },
    {
      "cell_type": "markdown",
      "source": [
        "# Case study - 1: Airbnb's nps\n",
        "\n",
        "nps: Net Promoters' Score\n",
        "\n",
        "Score   \n",
        "1 to 6:    Detractors\n",
        "\n",
        "7 or 8:    Neutral\n",
        "\n",
        "9 or 10:   Promoters\n",
        "\n",
        "nps = % of promters - % of detractors\n",
        "\n",
        "**Example**\n",
        "\n",
        "60% - Promoters\n",
        "\n",
        "10% - Neutral\n",
        "\n",
        "30% - Detractors\n",
        "\n",
        "nps = 60 - 30 = 30\n",
        "\n",
        "Therefore, usually nps above 70 is considered excellent."
      ],
      "metadata": {
        "id": "SHist7rlMJXM"
      }
    },
    {
      "cell_type": "code",
      "source": [
        "air=np.loadtxt('airbnb_nps.txt',dtype='int')\n",
        "air"
      ],
      "metadata": {
        "colab": {
          "base_uri": "https://localhost:8080/"
        },
        "id": "JjOo5rfzMN4q",
        "outputId": "10c5fd07-8eb2-4f2d-986d-e5c9a7405e67"
      },
      "execution_count": 48,
      "outputs": [
        {
          "output_type": "execute_result",
          "data": {
            "text/plain": [
              "array([ 7, 10,  5, ...,  5,  9, 10])"
            ]
          },
          "metadata": {},
          "execution_count": 48
        }
      ]
    },
    {
      "cell_type": "code",
      "source": [
        "total=len(air)\n",
        "print(total)\n",
        "\n",
        "detractors=air[air<7] #detractors array ni list malshe\n",
        "no_of_detractors=len(detractors)\n",
        "# print(detractors)\n",
        "# print(no_of_detractors)\n",
        "pct_detractors=round(no_of_detractors*100/total,2)\n",
        "print('pct_detractors =',pct_detractors)\n",
        "\n",
        "\n",
        "\n",
        "no_of_neutrals=len(air[air<9])-no_of_detractors\n",
        "pct_neutrals=round(no_of_neutrals*100/total,2)\n",
        "print(\"pct_neutrals =\",pct_neutrals)\n",
        "\n",
        "\n",
        "no_of_promoters=len(air[air>=9])\n",
        "pct_promoters=round(no_of_promoters*100/total,2)\n",
        "print(\"pct_promoters =\",pct_promoters)\n",
        "\n",
        "nps=pct_promoters-pct_detractors\n",
        "print(\"Nps :\",nps)\n",
        "\n"
      ],
      "metadata": {
        "colab": {
          "base_uri": "https://localhost:8080/"
        },
        "id": "rrJGwA2BMiPF",
        "outputId": "89f7992e-7d71-469d-9537-093c632fc58d"
      },
      "execution_count": 53,
      "outputs": [
        {
          "output_type": "stream",
          "name": "stdout",
          "text": [
            "1167\n",
            "pct_detractors = 28.45\n",
            "pct_neutrals = 19.37\n",
            "pct_promoters = 52.19\n",
            "Nps : 23.74\n"
          ]
        }
      ]
    },
    {
      "cell_type": "markdown",
      "source": [
        "#Case Study2: Fibit's User's Analysis"
      ],
      "metadata": {
        "id": "vEUPW36EOPeZ"
      }
    },
    {
      "cell_type": "code",
      "source": [],
      "metadata": {
        "id": "WAlkn0elORP_"
      },
      "execution_count": null,
      "outputs": []
    }
  ]
}